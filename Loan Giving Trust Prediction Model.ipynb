{
 "cells": [
  {
   "cell_type": "code",
   "execution_count": 1,
   "metadata": {},
   "outputs": [],
   "source": [
    "from joblib import dump, load\n",
    "import numpy as np"
   ]
  },
  {
   "cell_type": "markdown",
   "metadata": {},
   "source": [
    "## Loading Joblib File for Showing Final Prediction"
   ]
  },
  {
   "cell_type": "code",
   "execution_count": 2,
   "metadata": {},
   "outputs": [],
   "source": [
    "model = load('Loan.joblib')"
   ]
  },
  {
   "cell_type": "markdown",
   "metadata": {},
   "source": [
    "## Taking Input From User"
   ]
  },
  {
   "cell_type": "code",
   "execution_count": 3,
   "metadata": {},
   "outputs": [
    {
     "name": "stdout",
     "output_type": "stream",
     "text": [
      "Applicant Sex [M/F]:M\n",
      "Married[Y/N]:N\n",
      "Dependents:4\n",
      "Education[Graduate/Non-Graduate]:Non-Graduate\n",
      "Self Employed[Y/N]:N\n",
      "Income of Applicant($):2300\n",
      "Income of Co-Applicant($):1500\n",
      "Loan-Amount($):300\n",
      "Tenure[months]:300\n",
      "Credit-History[1/0]:0\n",
      "Area of Property[Rural/Semi-Urban/Urban]:Urban\n"
     ]
    }
   ],
   "source": [
    "Gender = input(\"Applicant Sex [M/F]:\")\n",
    "if Gender == \"M\":\n",
    "    Gender = 1\n",
    "elif Gender == \"F\":\n",
    "    Gender = 0\n",
    "Married = input(\"Married[Y/N]:\")\n",
    "if Married == \"Y\":\n",
    "    Married = 0\n",
    "elif Married ==\"N\":\n",
    "    Married = 1\n",
    "Dependents = int(input(\"Dependents:\"))\n",
    "if Dependents >= 3:\n",
    "    Dependents = 3\n",
    "Education = input(\"Education[Graduate/Non-Graduate]:\")\n",
    "if Education == \"Graduate\":\n",
    "    Education = 0\n",
    "elif Education ==\"Non-Graduate\":\n",
    "    Education = 1\n",
    "Self_Employed = input(\"Self Employed[Y/N]:\")\n",
    "if Self_Employed == \"Y\":\n",
    "    Self_Employed = 1\n",
    "elif Self_Employed == \"N\":\n",
    "    Self_Employed = 0\n",
    "ApplicantIncome = float(input(\"Income of Applicant($):\"))\n",
    "CoapplicantIncome = float(input(\"Income of Co-Applicant($):\"))\n",
    "LoanAmount = float(input(\"Loan-Amount($):\"))\n",
    "Loan_Amount_Term = float(input(\"Tenure[months]:\"))\n",
    "Credit_History = int(input(\"Credit-History[1/0]:\"))\n",
    "Property_Area = input(\"Area of Property[Rural/Semi-Urban/Urban]:\") \n",
    "if Property_Area == \"Rural\":\n",
    "    Property_Area = 0\n",
    "elif Property_Area == \"Semi-Urban\":\n",
    "    Property_Area = 1\n",
    "elif Property_Area == \"Urban\":\n",
    "    Property_Area = 2"
   ]
  },
  {
   "cell_type": "markdown",
   "metadata": {},
   "source": [
    "## Forming Array of the collected Information prediction"
   ]
  },
  {
   "cell_type": "code",
   "execution_count": 4,
   "metadata": {},
   "outputs": [],
   "source": [
    "features = np.array([[Gender,\n",
    "Married,\n",
    "Dependents,\n",
    "Education,\n",
    "Self_Employed,\n",
    "ApplicantIncome,\n",
    "CoapplicantIncome,\n",
    "LoanAmount,\n",
    "Loan_Amount_Term,\n",
    "Credit_History,\n",
    "Property_Area\n",
    "]])"
   ]
  },
  {
   "cell_type": "markdown",
   "metadata": {},
   "source": [
    "## Final Prediction"
   ]
  },
  {
   "cell_type": "code",
   "execution_count": 5,
   "metadata": {},
   "outputs": [
    {
     "name": "stdout",
     "output_type": "stream",
     "text": [
      "Loan Cannot be Approved\n"
     ]
    }
   ],
   "source": [
    "detect = model.predict(features)\n",
    "if detect == [0]:\n",
    "    print(\"Loan Cannot be Approved\")\n",
    "if detect == [1]:\n",
    "    print(\"COngratulations!!!!....Loan is Approved\")"
   ]
  }
 ],
 "metadata": {
  "kernelspec": {
   "display_name": "Python 3",
   "language": "python",
   "name": "python3"
  },
  "language_info": {
   "codemirror_mode": {
    "name": "ipython",
    "version": 3
   },
   "file_extension": ".py",
   "mimetype": "text/x-python",
   "name": "python",
   "nbconvert_exporter": "python",
   "pygments_lexer": "ipython3",
   "version": "3.7.6"
  }
 },
 "nbformat": 4,
 "nbformat_minor": 4
}
